{
 "cells": [
  {
   "cell_type": "markdown",
   "metadata": {},
   "source": [
    "# CERVICAL CANCER RISK PREDICTION IN WOMEN\n",
    "---\n",
    "\n",
    "Every year, just in India alone, around 122,000 women are diagnosed with cervical cancer, out of which around 67,000 die succumb to the disease. One of the primary reasons why the disease is so deadly is because cervical cancer is hard to detect, and the patient is usually diagnosed only in the later stages of the cancer.\n",
    "\n",
    "This aim of this project is to create a binary classifier that is able to tell whether a woman is at the risk of cervical cancer or not. So let's begin by first importing all the necessary project dependencies.\n",
    "\n",
    "## Importing Project Dependencies\n",
    "---"
   ]
  },
  {
   "cell_type": "code",
   "execution_count": 1,
   "metadata": {},
   "outputs": [],
   "source": [
    "import numpy as np \n",
    "import pandas as pd \n",
    "import matplotlib.pyplot as plt\n",
    "import seaborn as sns"
   ]
  },
  {
   "cell_type": "markdown",
   "metadata": {},
   "source": [
    "Now, let us import the dataset."
   ]
  },
  {
   "cell_type": "code",
   "execution_count": 2,
   "metadata": {},
   "outputs": [
    {
     "data": {
      "text/html": [
       "<div>\n",
       "<style scoped>\n",
       "    .dataframe tbody tr th:only-of-type {\n",
       "        vertical-align: middle;\n",
       "    }\n",
       "\n",
       "    .dataframe tbody tr th {\n",
       "        vertical-align: top;\n",
       "    }\n",
       "\n",
       "    .dataframe thead th {\n",
       "        text-align: right;\n",
       "    }\n",
       "</style>\n",
       "<table border=\"1\" class=\"dataframe\">\n",
       "  <thead>\n",
       "    <tr style=\"text-align: right;\">\n",
       "      <th></th>\n",
       "      <th>Age</th>\n",
       "      <th>Number of sexual partners</th>\n",
       "      <th>First sexual intercourse</th>\n",
       "      <th>Num of pregnancies</th>\n",
       "      <th>Smokes</th>\n",
       "      <th>Smokes (years)</th>\n",
       "      <th>Smokes (packs/year)</th>\n",
       "      <th>Hormonal Contraceptives</th>\n",
       "      <th>Hormonal Contraceptives (years)</th>\n",
       "      <th>IUD</th>\n",
       "      <th>...</th>\n",
       "      <th>STDs: Time since first diagnosis</th>\n",
       "      <th>STDs: Time since last diagnosis</th>\n",
       "      <th>Dx:Cancer</th>\n",
       "      <th>Dx:CIN</th>\n",
       "      <th>Dx:HPV</th>\n",
       "      <th>Dx</th>\n",
       "      <th>Hinselmann</th>\n",
       "      <th>Schiller</th>\n",
       "      <th>Citology</th>\n",
       "      <th>Biopsy</th>\n",
       "    </tr>\n",
       "  </thead>\n",
       "  <tbody>\n",
       "    <tr>\n",
       "      <th>0</th>\n",
       "      <td>18</td>\n",
       "      <td>4.0</td>\n",
       "      <td>15.0</td>\n",
       "      <td>1.0</td>\n",
       "      <td>0.0</td>\n",
       "      <td>0.0</td>\n",
       "      <td>0.0</td>\n",
       "      <td>0.0</td>\n",
       "      <td>0.0</td>\n",
       "      <td>0.0</td>\n",
       "      <td>...</td>\n",
       "      <td>NaN</td>\n",
       "      <td>NaN</td>\n",
       "      <td>0</td>\n",
       "      <td>0</td>\n",
       "      <td>0</td>\n",
       "      <td>0</td>\n",
       "      <td>0</td>\n",
       "      <td>0</td>\n",
       "      <td>0</td>\n",
       "      <td>0</td>\n",
       "    </tr>\n",
       "    <tr>\n",
       "      <th>1</th>\n",
       "      <td>15</td>\n",
       "      <td>1.0</td>\n",
       "      <td>14.0</td>\n",
       "      <td>1.0</td>\n",
       "      <td>0.0</td>\n",
       "      <td>0.0</td>\n",
       "      <td>0.0</td>\n",
       "      <td>0.0</td>\n",
       "      <td>0.0</td>\n",
       "      <td>0.0</td>\n",
       "      <td>...</td>\n",
       "      <td>NaN</td>\n",
       "      <td>NaN</td>\n",
       "      <td>0</td>\n",
       "      <td>0</td>\n",
       "      <td>0</td>\n",
       "      <td>0</td>\n",
       "      <td>0</td>\n",
       "      <td>0</td>\n",
       "      <td>0</td>\n",
       "      <td>0</td>\n",
       "    </tr>\n",
       "    <tr>\n",
       "      <th>2</th>\n",
       "      <td>34</td>\n",
       "      <td>1.0</td>\n",
       "      <td>NaN</td>\n",
       "      <td>1.0</td>\n",
       "      <td>0.0</td>\n",
       "      <td>0.0</td>\n",
       "      <td>0.0</td>\n",
       "      <td>0.0</td>\n",
       "      <td>0.0</td>\n",
       "      <td>0.0</td>\n",
       "      <td>...</td>\n",
       "      <td>NaN</td>\n",
       "      <td>NaN</td>\n",
       "      <td>0</td>\n",
       "      <td>0</td>\n",
       "      <td>0</td>\n",
       "      <td>0</td>\n",
       "      <td>0</td>\n",
       "      <td>0</td>\n",
       "      <td>0</td>\n",
       "      <td>0</td>\n",
       "    </tr>\n",
       "    <tr>\n",
       "      <th>3</th>\n",
       "      <td>52</td>\n",
       "      <td>5.0</td>\n",
       "      <td>16.0</td>\n",
       "      <td>4.0</td>\n",
       "      <td>1.0</td>\n",
       "      <td>37.0</td>\n",
       "      <td>37.0</td>\n",
       "      <td>1.0</td>\n",
       "      <td>3.0</td>\n",
       "      <td>0.0</td>\n",
       "      <td>...</td>\n",
       "      <td>NaN</td>\n",
       "      <td>NaN</td>\n",
       "      <td>1</td>\n",
       "      <td>0</td>\n",
       "      <td>1</td>\n",
       "      <td>0</td>\n",
       "      <td>0</td>\n",
       "      <td>0</td>\n",
       "      <td>0</td>\n",
       "      <td>0</td>\n",
       "    </tr>\n",
       "    <tr>\n",
       "      <th>4</th>\n",
       "      <td>46</td>\n",
       "      <td>3.0</td>\n",
       "      <td>21.0</td>\n",
       "      <td>4.0</td>\n",
       "      <td>0.0</td>\n",
       "      <td>0.0</td>\n",
       "      <td>0.0</td>\n",
       "      <td>1.0</td>\n",
       "      <td>15.0</td>\n",
       "      <td>0.0</td>\n",
       "      <td>...</td>\n",
       "      <td>NaN</td>\n",
       "      <td>NaN</td>\n",
       "      <td>0</td>\n",
       "      <td>0</td>\n",
       "      <td>0</td>\n",
       "      <td>0</td>\n",
       "      <td>0</td>\n",
       "      <td>0</td>\n",
       "      <td>0</td>\n",
       "      <td>0</td>\n",
       "    </tr>\n",
       "  </tbody>\n",
       "</table>\n",
       "<p>5 rows × 36 columns</p>\n",
       "</div>"
      ],
      "text/plain": [
       "   Age  Number of sexual partners  First sexual intercourse  \\\n",
       "0   18                        4.0                      15.0   \n",
       "1   15                        1.0                      14.0   \n",
       "2   34                        1.0                       NaN   \n",
       "3   52                        5.0                      16.0   \n",
       "4   46                        3.0                      21.0   \n",
       "\n",
       "   Num of pregnancies  Smokes  Smokes (years)  Smokes (packs/year)  \\\n",
       "0                 1.0     0.0             0.0                  0.0   \n",
       "1                 1.0     0.0             0.0                  0.0   \n",
       "2                 1.0     0.0             0.0                  0.0   \n",
       "3                 4.0     1.0            37.0                 37.0   \n",
       "4                 4.0     0.0             0.0                  0.0   \n",
       "\n",
       "   Hormonal Contraceptives  Hormonal Contraceptives (years)  IUD  ...  \\\n",
       "0                      0.0                              0.0  0.0  ...   \n",
       "1                      0.0                              0.0  0.0  ...   \n",
       "2                      0.0                              0.0  0.0  ...   \n",
       "3                      1.0                              3.0  0.0  ...   \n",
       "4                      1.0                             15.0  0.0  ...   \n",
       "\n",
       "   STDs: Time since first diagnosis  STDs: Time since last diagnosis  \\\n",
       "0                               NaN                              NaN   \n",
       "1                               NaN                              NaN   \n",
       "2                               NaN                              NaN   \n",
       "3                               NaN                              NaN   \n",
       "4                               NaN                              NaN   \n",
       "\n",
       "   Dx:Cancer  Dx:CIN  Dx:HPV  Dx  Hinselmann  Schiller  Citology  Biopsy  \n",
       "0          0       0       0   0           0         0         0       0  \n",
       "1          0       0       0   0           0         0         0       0  \n",
       "2          0       0       0   0           0         0         0       0  \n",
       "3          1       0       1   0           0         0         0       0  \n",
       "4          0       0       0   0           0         0         0       0  \n",
       "\n",
       "[5 rows x 36 columns]"
      ]
     },
     "execution_count": 2,
     "metadata": {},
     "output_type": "execute_result"
    }
   ],
   "source": [
    "data = pd.read_csv('risk_factors_cervical_cancer.csv', na_values='?')\n",
    "data.head()"
   ]
  },
  {
   "cell_type": "markdown",
   "metadata": {},
   "source": [
    "Now that we have imported the dataset, the next step is to wrangle (preprocess) the dataset.\n",
    "\n",
    "## Data Wrangling\n",
    "\n",
    "Let us begin by checking for null values within our dataset."
   ]
  },
  {
   "cell_type": "code",
   "execution_count": 3,
   "metadata": {},
   "outputs": [
    {
     "name": "stdout",
     "output_type": "stream",
     "text": [
      "<class 'pandas.core.frame.DataFrame'>\n",
      "RangeIndex: 858 entries, 0 to 857\n",
      "Data columns (total 36 columns):\n",
      " #   Column                              Non-Null Count  Dtype  \n",
      "---  ------                              --------------  -----  \n",
      " 0   Age                                 858 non-null    int64  \n",
      " 1   Number of sexual partners           832 non-null    float64\n",
      " 2   First sexual intercourse            851 non-null    float64\n",
      " 3   Num of pregnancies                  802 non-null    float64\n",
      " 4   Smokes                              845 non-null    float64\n",
      " 5   Smokes (years)                      845 non-null    float64\n",
      " 6   Smokes (packs/year)                 845 non-null    float64\n",
      " 7   Hormonal Contraceptives             750 non-null    float64\n",
      " 8   Hormonal Contraceptives (years)     750 non-null    float64\n",
      " 9   IUD                                 741 non-null    float64\n",
      " 10  IUD (years)                         741 non-null    float64\n",
      " 11  STDs                                753 non-null    float64\n",
      " 12  STDs (number)                       753 non-null    float64\n",
      " 13  STDs:condylomatosis                 753 non-null    float64\n",
      " 14  STDs:cervical condylomatosis        753 non-null    float64\n",
      " 15  STDs:vaginal condylomatosis         753 non-null    float64\n",
      " 16  STDs:vulvo-perineal condylomatosis  753 non-null    float64\n",
      " 17  STDs:syphilis                       753 non-null    float64\n",
      " 18  STDs:pelvic inflammatory disease    753 non-null    float64\n",
      " 19  STDs:genital herpes                 753 non-null    float64\n",
      " 20  STDs:molluscum contagiosum          753 non-null    float64\n",
      " 21  STDs:AIDS                           753 non-null    float64\n",
      " 22  STDs:HIV                            753 non-null    float64\n",
      " 23  STDs:Hepatitis B                    753 non-null    float64\n",
      " 24  STDs:HPV                            753 non-null    float64\n",
      " 25  STDs: Number of diagnosis           858 non-null    int64  \n",
      " 26  STDs: Time since first diagnosis    71 non-null     float64\n",
      " 27  STDs: Time since last diagnosis     71 non-null     float64\n",
      " 28  Dx:Cancer                           858 non-null    int64  \n",
      " 29  Dx:CIN                              858 non-null    int64  \n",
      " 30  Dx:HPV                              858 non-null    int64  \n",
      " 31  Dx                                  858 non-null    int64  \n",
      " 32  Hinselmann                          858 non-null    int64  \n",
      " 33  Schiller                            858 non-null    int64  \n",
      " 34  Citology                            858 non-null    int64  \n",
      " 35  Biopsy                              858 non-null    int64  \n",
      "dtypes: float64(26), int64(10)\n",
      "memory usage: 241.4 KB\n"
     ]
    }
   ],
   "source": [
    "data.info() # prints the number of non-null values and data type of each column"
   ]
  },
  {
   "cell_type": "markdown",
   "metadata": {},
   "source": [
    "As per MayoClinic.org the risk factors for cervical cancer includes: \n",
    "1. Many sexual partners\n",
    "2. Early sexual activity\n",
    "3. Other sexually transmitted infections (STIs)\n",
    "4. A weakened immune system\n",
    "5. Smoking\n",
    "6. Exposure to miscarriage prevention drug\n",
    "7. Practice unsafe sex\n",
    "\n",
    "Various strains of the human papillomavirus (HPV), a sexually transmitted infection, play a role in causing most cervical cancer.\n",
    "\n",
    "When exposed to HPV, the body's immune system typically prevents the virus from doing harm. In a small percentage of people, however, the virus survives for years, contributing to the process that causes some cervical cells to become cancer cells.\n",
    "\n",
    "Therefore to tell whether a woman is at the risk of cervical cancer or not diagnosis of HPV plays the major role.\n",
    "So we select only the important features of the data"
   ]
  },
  {
   "cell_type": "code",
   "execution_count": 4,
   "metadata": {},
   "outputs": [],
   "source": [
    "data_sel = data[['Number of sexual partners', 'First sexual intercourse', 'Smokes', 'Smokes (years)', 'Hormonal Contraceptives', 'Hormonal Contraceptives (years)', 'IUD', 'IUD (years)', 'STDs', 'STDs (number)', 'STDs:HPV', 'STDs: Number of diagnosis', 'STDs: Time since first diagnosis', 'STDs: Time since last diagnosis', 'Dx:HPV']]"
   ]
  },
  {
   "cell_type": "markdown",
   "metadata": {},
   "source": [
    "As per resources like MayoClinic and WebMD, the STD HPV plays a key role in bringing about the DNA mutation that might end up turning the cervical tissues cancerous. Hence, we will drop all the rows for which the STDs:HPV value is a null value (NaN).   "
   ]
  },
  {
   "cell_type": "code",
   "execution_count": 5,
   "metadata": {},
   "outputs": [],
   "source": [
    "# drop rows where STDs:HPV == NaN\n",
    "data_cleaned = data_sel[data_sel['STDs:HPV'].notna()]"
   ]
  },
  {
   "cell_type": "markdown",
   "metadata": {},
   "source": [
    "Now, let us drop the columns '__STDs: Time since first diagnosis__' and '__STDs: Time since last diagnosis__' since most values in these columns are null values."
   ]
  },
  {
   "cell_type": "code",
   "execution_count": 6,
   "metadata": {},
   "outputs": [
    {
     "name": "stdout",
     "output_type": "stream",
     "text": [
      "<class 'pandas.core.frame.DataFrame'>\n",
      "Int64Index: 753 entries, 0 to 857\n",
      "Data columns (total 13 columns):\n",
      " #   Column                           Non-Null Count  Dtype  \n",
      "---  ------                           --------------  -----  \n",
      " 0   Number of sexual partners        739 non-null    float64\n",
      " 1   First sexual intercourse         747 non-null    float64\n",
      " 2   Smokes                           743 non-null    float64\n",
      " 3   Smokes (years)                   743 non-null    float64\n",
      " 4   Hormonal Contraceptives          740 non-null    float64\n",
      " 5   Hormonal Contraceptives (years)  740 non-null    float64\n",
      " 6   IUD                              737 non-null    float64\n",
      " 7   IUD (years)                      737 non-null    float64\n",
      " 8   STDs                             753 non-null    float64\n",
      " 9   STDs (number)                    753 non-null    float64\n",
      " 10  STDs:HPV                         753 non-null    float64\n",
      " 11  STDs: Number of diagnosis        753 non-null    int64  \n",
      " 12  Dx:HPV                           753 non-null    int64  \n",
      "dtypes: float64(11), int64(2)\n",
      "memory usage: 82.4 KB\n"
     ]
    },
    {
     "name": "stderr",
     "output_type": "stream",
     "text": [
      "C:\\Users\\Aniket Agrawal\\anaconda3\\lib\\site-packages\\pandas\\core\\frame.py:3990: SettingWithCopyWarning: \n",
      "A value is trying to be set on a copy of a slice from a DataFrame\n",
      "\n",
      "See the caveats in the documentation: https://pandas.pydata.org/pandas-docs/stable/user_guide/indexing.html#returning-a-view-versus-a-copy\n",
      "  return super().drop(\n"
     ]
    }
   ],
   "source": [
    "# deleting unnecessary columns\n",
    "data_cleaned.drop(columns=['STDs: Time since first diagnosis', 'STDs: Time since last diagnosis'], axis=1, inplace=True)\n",
    "data_cleaned.info()"
   ]
  },
  {
   "cell_type": "markdown",
   "metadata": {},
   "source": [
    "For the rest of the null values, we will simply replace them with the mode (highest frequent observation) of the respective columns."
   ]
  },
  {
   "cell_type": "code",
   "execution_count": 7,
   "metadata": {},
   "outputs": [
    {
     "name": "stdout",
     "output_type": "stream",
     "text": [
      "<class 'pandas.core.frame.DataFrame'>\n",
      "Int64Index: 753 entries, 0 to 857\n",
      "Data columns (total 13 columns):\n",
      " #   Column                           Non-Null Count  Dtype  \n",
      "---  ------                           --------------  -----  \n",
      " 0   Number of sexual partners        753 non-null    float64\n",
      " 1   First sexual intercourse         753 non-null    float64\n",
      " 2   Smokes                           753 non-null    float64\n",
      " 3   Smokes (years)                   753 non-null    float64\n",
      " 4   Hormonal Contraceptives          753 non-null    float64\n",
      " 5   Hormonal Contraceptives (years)  753 non-null    float64\n",
      " 6   IUD                              753 non-null    float64\n",
      " 7   IUD (years)                      753 non-null    float64\n",
      " 8   STDs                             753 non-null    float64\n",
      " 9   STDs (number)                    753 non-null    float64\n",
      " 10  STDs:HPV                         753 non-null    float64\n",
      " 11  STDs: Number of diagnosis        753 non-null    int64  \n",
      " 12  Dx:HPV                           753 non-null    int64  \n",
      "dtypes: float64(11), int64(2)\n",
      "memory usage: 82.4 KB\n"
     ]
    },
    {
     "name": "stderr",
     "output_type": "stream",
     "text": [
      "C:\\Users\\Aniket Agrawal\\anaconda3\\lib\\site-packages\\pandas\\core\\generic.py:6245: SettingWithCopyWarning: \n",
      "A value is trying to be set on a copy of a slice from a DataFrame\n",
      "\n",
      "See the caveats in the documentation: https://pandas.pydata.org/pandas-docs/stable/user_guide/indexing.html#returning-a-view-versus-a-copy\n",
      "  self._update_inplace(new_data)\n"
     ]
    }
   ],
   "source": [
    "# creating a dictionary that maps with what value each columns null values will be replaced\n",
    "# Here, the filler is mode of the column\n",
    "values = {\n",
    "    'Number of sexual partners': data_cleaned['Number of sexual partners'].mode()[0],\n",
    "    'First sexual intercourse': data_cleaned['First sexual intercourse'].mode()[0],\n",
    "    'Smokes': data_cleaned['Smokes'].mode()[0],\n",
    "    'Smokes (years)': data_cleaned['Smokes (years)'].mode()[0],\n",
    "    'Hormonal Contraceptives': data_cleaned['Hormonal Contraceptives'].mode()[0],\n",
    "    'Hormonal Contraceptives (years)': data_cleaned['Hormonal Contraceptives (years)'].mode()[0],\n",
    "    'IUD': data_cleaned['IUD'].mode()[0],\n",
    "    'IUD (years)': data_cleaned['IUD (years)'].mode()[0],\n",
    "}\n",
    "\n",
    "# replacing null values\n",
    "data_cleaned.fillna(value=values, inplace=True)\n",
    "data_cleaned.info()"
   ]
  },
  {
   "cell_type": "markdown",
   "metadata": {},
   "source": [
    "With this, we have dealt with all the missing/null values within our dataset. Now, let us have a look at the statistical analysis of the data."
   ]
  },
  {
   "cell_type": "code",
   "execution_count": 8,
   "metadata": {},
   "outputs": [
    {
     "data": {
      "text/html": [
       "<div>\n",
       "<style scoped>\n",
       "    .dataframe tbody tr th:only-of-type {\n",
       "        vertical-align: middle;\n",
       "    }\n",
       "\n",
       "    .dataframe tbody tr th {\n",
       "        vertical-align: top;\n",
       "    }\n",
       "\n",
       "    .dataframe thead th {\n",
       "        text-align: right;\n",
       "    }\n",
       "</style>\n",
       "<table border=\"1\" class=\"dataframe\">\n",
       "  <thead>\n",
       "    <tr style=\"text-align: right;\">\n",
       "      <th></th>\n",
       "      <th>Number of sexual partners</th>\n",
       "      <th>First sexual intercourse</th>\n",
       "      <th>Smokes</th>\n",
       "      <th>Smokes (years)</th>\n",
       "      <th>Hormonal Contraceptives</th>\n",
       "      <th>Hormonal Contraceptives (years)</th>\n",
       "      <th>IUD</th>\n",
       "      <th>IUD (years)</th>\n",
       "      <th>STDs</th>\n",
       "      <th>STDs (number)</th>\n",
       "      <th>STDs:HPV</th>\n",
       "      <th>STDs: Number of diagnosis</th>\n",
       "      <th>Dx:HPV</th>\n",
       "    </tr>\n",
       "  </thead>\n",
       "  <tbody>\n",
       "    <tr>\n",
       "      <th>count</th>\n",
       "      <td>753.000000</td>\n",
       "      <td>753.000000</td>\n",
       "      <td>753.000000</td>\n",
       "      <td>753.000000</td>\n",
       "      <td>753.000000</td>\n",
       "      <td>753.000000</td>\n",
       "      <td>753.000000</td>\n",
       "      <td>753.000000</td>\n",
       "      <td>753.000000</td>\n",
       "      <td>753.000000</td>\n",
       "      <td>753.000000</td>\n",
       "      <td>753.000000</td>\n",
       "      <td>753.000000</td>\n",
       "    </tr>\n",
       "    <tr>\n",
       "      <th>mean</th>\n",
       "      <td>2.519256</td>\n",
       "      <td>17.073041</td>\n",
       "      <td>0.142098</td>\n",
       "      <td>1.210974</td>\n",
       "      <td>0.644090</td>\n",
       "      <td>2.173831</td>\n",
       "      <td>0.110226</td>\n",
       "      <td>0.506600</td>\n",
       "      <td>0.104914</td>\n",
       "      <td>0.176627</td>\n",
       "      <td>0.002656</td>\n",
       "      <td>0.099602</td>\n",
       "      <td>0.023904</td>\n",
       "    </tr>\n",
       "    <tr>\n",
       "      <th>std</th>\n",
       "      <td>1.670286</td>\n",
       "      <td>2.838513</td>\n",
       "      <td>0.349383</td>\n",
       "      <td>4.115163</td>\n",
       "      <td>0.479106</td>\n",
       "      <td>3.614502</td>\n",
       "      <td>0.313379</td>\n",
       "      <td>1.928602</td>\n",
       "      <td>0.306646</td>\n",
       "      <td>0.561993</td>\n",
       "      <td>0.051503</td>\n",
       "      <td>0.321089</td>\n",
       "      <td>0.152853</td>\n",
       "    </tr>\n",
       "    <tr>\n",
       "      <th>min</th>\n",
       "      <td>1.000000</td>\n",
       "      <td>10.000000</td>\n",
       "      <td>0.000000</td>\n",
       "      <td>0.000000</td>\n",
       "      <td>0.000000</td>\n",
       "      <td>0.000000</td>\n",
       "      <td>0.000000</td>\n",
       "      <td>0.000000</td>\n",
       "      <td>0.000000</td>\n",
       "      <td>0.000000</td>\n",
       "      <td>0.000000</td>\n",
       "      <td>0.000000</td>\n",
       "      <td>0.000000</td>\n",
       "    </tr>\n",
       "    <tr>\n",
       "      <th>25%</th>\n",
       "      <td>2.000000</td>\n",
       "      <td>15.000000</td>\n",
       "      <td>0.000000</td>\n",
       "      <td>0.000000</td>\n",
       "      <td>0.000000</td>\n",
       "      <td>0.000000</td>\n",
       "      <td>0.000000</td>\n",
       "      <td>0.000000</td>\n",
       "      <td>0.000000</td>\n",
       "      <td>0.000000</td>\n",
       "      <td>0.000000</td>\n",
       "      <td>0.000000</td>\n",
       "      <td>0.000000</td>\n",
       "    </tr>\n",
       "    <tr>\n",
       "      <th>50%</th>\n",
       "      <td>2.000000</td>\n",
       "      <td>17.000000</td>\n",
       "      <td>0.000000</td>\n",
       "      <td>0.000000</td>\n",
       "      <td>1.000000</td>\n",
       "      <td>0.420000</td>\n",
       "      <td>0.000000</td>\n",
       "      <td>0.000000</td>\n",
       "      <td>0.000000</td>\n",
       "      <td>0.000000</td>\n",
       "      <td>0.000000</td>\n",
       "      <td>0.000000</td>\n",
       "      <td>0.000000</td>\n",
       "    </tr>\n",
       "    <tr>\n",
       "      <th>75%</th>\n",
       "      <td>3.000000</td>\n",
       "      <td>18.000000</td>\n",
       "      <td>0.000000</td>\n",
       "      <td>0.000000</td>\n",
       "      <td>1.000000</td>\n",
       "      <td>3.000000</td>\n",
       "      <td>0.000000</td>\n",
       "      <td>0.000000</td>\n",
       "      <td>0.000000</td>\n",
       "      <td>0.000000</td>\n",
       "      <td>0.000000</td>\n",
       "      <td>0.000000</td>\n",
       "      <td>0.000000</td>\n",
       "    </tr>\n",
       "    <tr>\n",
       "      <th>max</th>\n",
       "      <td>28.000000</td>\n",
       "      <td>32.000000</td>\n",
       "      <td>1.000000</td>\n",
       "      <td>37.000000</td>\n",
       "      <td>1.000000</td>\n",
       "      <td>22.000000</td>\n",
       "      <td>1.000000</td>\n",
       "      <td>19.000000</td>\n",
       "      <td>1.000000</td>\n",
       "      <td>4.000000</td>\n",
       "      <td>1.000000</td>\n",
       "      <td>3.000000</td>\n",
       "      <td>1.000000</td>\n",
       "    </tr>\n",
       "  </tbody>\n",
       "</table>\n",
       "</div>"
      ],
      "text/plain": [
       "       Number of sexual partners  First sexual intercourse      Smokes  \\\n",
       "count                 753.000000                753.000000  753.000000   \n",
       "mean                    2.519256                 17.073041    0.142098   \n",
       "std                     1.670286                  2.838513    0.349383   \n",
       "min                     1.000000                 10.000000    0.000000   \n",
       "25%                     2.000000                 15.000000    0.000000   \n",
       "50%                     2.000000                 17.000000    0.000000   \n",
       "75%                     3.000000                 18.000000    0.000000   \n",
       "max                    28.000000                 32.000000    1.000000   \n",
       "\n",
       "       Smokes (years)  Hormonal Contraceptives  \\\n",
       "count      753.000000               753.000000   \n",
       "mean         1.210974                 0.644090   \n",
       "std          4.115163                 0.479106   \n",
       "min          0.000000                 0.000000   \n",
       "25%          0.000000                 0.000000   \n",
       "50%          0.000000                 1.000000   \n",
       "75%          0.000000                 1.000000   \n",
       "max         37.000000                 1.000000   \n",
       "\n",
       "       Hormonal Contraceptives (years)         IUD  IUD (years)        STDs  \\\n",
       "count                       753.000000  753.000000   753.000000  753.000000   \n",
       "mean                          2.173831    0.110226     0.506600    0.104914   \n",
       "std                           3.614502    0.313379     1.928602    0.306646   \n",
       "min                           0.000000    0.000000     0.000000    0.000000   \n",
       "25%                           0.000000    0.000000     0.000000    0.000000   \n",
       "50%                           0.420000    0.000000     0.000000    0.000000   \n",
       "75%                           3.000000    0.000000     0.000000    0.000000   \n",
       "max                          22.000000    1.000000    19.000000    1.000000   \n",
       "\n",
       "       STDs (number)    STDs:HPV  STDs: Number of diagnosis      Dx:HPV  \n",
       "count     753.000000  753.000000                 753.000000  753.000000  \n",
       "mean        0.176627    0.002656                   0.099602    0.023904  \n",
       "std         0.561993    0.051503                   0.321089    0.152853  \n",
       "min         0.000000    0.000000                   0.000000    0.000000  \n",
       "25%         0.000000    0.000000                   0.000000    0.000000  \n",
       "50%         0.000000    0.000000                   0.000000    0.000000  \n",
       "75%         0.000000    0.000000                   0.000000    0.000000  \n",
       "max         4.000000    1.000000                   3.000000    1.000000  "
      ]
     },
     "execution_count": 8,
     "metadata": {},
     "output_type": "execute_result"
    }
   ],
   "source": [
    "data_cleaned.describe() # printing statistical analysis"
   ]
  },
  {
   "cell_type": "markdown",
   "metadata": {},
   "source": [
    "Let us now normalize all the feature variables. Normalization is an important step. This is because it converts all the features to the same scale, ensuring that no single feature variable ends up a feature weight so large that it overshadows the effect of any other feature variable.  "
   ]
  },
  {
   "cell_type": "code",
   "execution_count": 9,
   "metadata": {},
   "outputs": [
    {
     "name": "stdout",
     "output_type": "stream",
     "text": [
      "[[ 0.88711038 -0.73081181 -0.4069824  ... -0.31449551 -0.05160539\n",
      "  -0.31040536]\n",
      " [-0.91018321 -1.08334307 -0.4069824  ... -0.31449551 -0.05160539\n",
      "  -0.31040536]\n",
      " [-0.91018321 -0.73081181 -0.4069824  ... -0.31449551 -0.05160539\n",
      "  -0.31040536]\n",
      " ...\n",
      " [-0.31108534 -0.0257493  -0.4069824  ... -0.31449551 -0.05160539\n",
      "  -0.31040536]\n",
      " [-0.31108534  2.44196951 -0.4069824  ... -0.31449551 -0.05160539\n",
      "  -0.31040536]\n",
      " [-0.31108534  1.03184448 -0.4069824  ... -0.31449551 -0.05160539\n",
      "  -0.31040536]]\n"
     ]
    }
   ],
   "source": [
    "# Data Standardization give data zero mean and unit variance, it is good practice, especially for algorithms such as KNN which is based on distance of cases:\n",
    "# To use scikit-learn library, we have to convert the Pandas data frame to a Numpy array:\n",
    "xvalues = data_cleaned[['Number of sexual partners', 'First sexual intercourse', 'Smokes', 'Smokes (years)', 'Hormonal Contraceptives', 'Hormonal Contraceptives (years)', 'IUD', 'IUD (years)', 'STDs', 'STDs (number)', 'STDs:HPV', 'STDs: Number of diagnosis']]\n",
    "X = xvalues.values.astype(float)\n",
    "\n",
    "from sklearn import preprocessing\n",
    "# creating Standard Scaler class object\n",
    "scaler = preprocessing.StandardScaler()\n",
    "# performing the scaling operation with fit_transform method\n",
    "X = scaler.fit(X).transform(X.astype(float))\n",
    "y = data_cleaned['Dx:HPV'].values\n",
    "print(X)"
   ]
  },
  {
   "cell_type": "markdown",
   "metadata": {},
   "source": [
    "Now, as the final step of our data preprocessing, let us split the data into training and test sets. "
   ]
  },
  {
   "cell_type": "code",
   "execution_count": 10,
   "metadata": {},
   "outputs": [
    {
     "name": "stdout",
     "output_type": "stream",
     "text": [
      "(527, 12) (226, 12) (527,) (226,)\n"
     ]
    }
   ],
   "source": [
    "# importing the train_test_split method\n",
    "from sklearn.model_selection import train_test_split\n",
    "# performing the split\n",
    "X_train, X_test, y_train, y_test = train_test_split(X, y, test_size=0.3, random_state = 42)\n",
    "# printing the shape of the splits\n",
    "print(X_train.shape, X_test.shape, y_train.shape, y_test.shape)"
   ]
  },
  {
   "cell_type": "markdown",
   "metadata": {},
   "source": [
    "Now, before we move on to the modeling part, let us perform some EDA that will help us understand our data better.\n",
    "\n",
    "## Exploratory Data Analysis\n",
    "---\n",
    "\n",
    "First, let us observe the First sexual intercourse distribution of the patients positively diagnosed with cervical cancer."
   ]
  },
  {
   "cell_type": "code",
   "execution_count": 11,
   "metadata": {},
   "outputs": [
    {
     "data": {
      "text/plain": [
       "<matplotlib.axes._subplots.AxesSubplot at 0x2b810d8c370>"
      ]
     },
     "execution_count": 11,
     "metadata": {},
     "output_type": "execute_result"
    },
    {
     "data": {
      "image/png": "[encoded data removed]",
      "text/plain": [
       "<Figure size 432x288 with 1 Axes>"
      ]
     },
     "metadata": {
      "needs_background": "light"
     },
     "output_type": "display_data"
    }
   ],
   "source": [
    "sns.distplot(data_cleaned['First sexual intercourse'][data_cleaned['Dx:HPV']==1])"
   ]
  },
  {
   "cell_type": "markdown",
   "metadata": {},
   "source": [
    "The above plot shows that women between the First sexual intercourse of 16-21 are at the highest risk of cervical cancer. Post the age of 22, the risk is significantly lower.  \n",
    "\n",
    "Now, let us observe how smoking affects the chances of cervical cancer. "
   ]
  },
  {
   "cell_type": "code",
   "execution_count": 12,
   "metadata": {},
   "outputs": [
    {
     "data": {
      "text/plain": [
       "Text(0.5, 1.0, 'Smoking and Cervical Cancer')"
      ]
     },
     "execution_count": 12,
     "metadata": {},
     "output_type": "execute_result"
    },
    {
     "data": {
      "image/png": "[encoded data removed]",
      "text/plain": [
       "<Figure size 432x288 with 1 Axes>"
      ]
     },
     "metadata": {
      "needs_background": "light"
     },
     "output_type": "display_data"
    }
   ],
   "source": [
    "fig, ax = plt.subplots()\n",
    "sns.countplot(data_cleaned['Dx:HPV'][data_cleaned['Smokes']==1], ax=ax)\n",
    "ax.set_xticklabels(['Negative', 'Positive'])\n",
    "ax.set_title('Smoking and Cervical Cancer')"
   ]
  },
  {
   "cell_type": "markdown",
   "metadata": {},
   "source": [
    "\n",
    "As we can see from the above given plot, the observations don't reveal much that can be enough to derive any conclusion whether smoking can be a cause of cervical cancer. One reason for this can be the sampling bias within the data (more cases of negative diagnosis than positive ones.)\n",
    "\n",
    "Let us now observe the relationship between hormonal contraceptives and cervical cancer. Hormonal contraceptives cause disruption in the natural ovulation cycle within women, and are known to have several side effects."
   ]
  },
  {
   "cell_type": "code",
   "execution_count": 13,
   "metadata": {},
   "outputs": [
    {
     "data": {
      "text/plain": [
       "[Text(0, 0, '0.0'),\n",
       " Text(0, 0, '0.16'),\n",
       " Text(0, 0, '0.75'),\n",
       " Text(0, 0, '1.0'),\n",
       " Text(0, 0, '3.0'),\n",
       " Text(0, 0, '6.0'),\n",
       " Text(0, 0, '9.0'),\n",
       " Text(0, 0, '15.0'),\n",
       " Text(0, 0, '16.0')]"
      ]
     },
     "execution_count": 13,
     "metadata": {},
     "output_type": "execute_result"
    },
    {
     "data": {
      "image/png": "[encoded data removed]",
      "text/plain": [
       "<Figure size 1440x360 with 3 Axes>"
      ]
     },
     "metadata": {
      "needs_background": "light"
     },
     "output_type": "display_data"
    }
   ],
   "source": [
    "fig, ax = plt.subplots(1, 3, figsize=(20, 5))\n",
    "fig.suptitle('Hormonal Contraceptives VS Cervical Cancer', fontsize=14)\n",
    "# plot 1\n",
    "sns.countplot(data_cleaned['Hormonal Contraceptives'], ax=ax[0])\n",
    "ax[0].set_xlabel('Used hormonal contraceptives')\n",
    "# plot 2\n",
    "sns.distplot(data_cleaned['Hormonal Contraceptives (years)'], color='red', ax=ax[1])\n",
    "ax[1].set_xlabel('No. of years used for')\n",
    "# plot 3\n",
    "sns.countplot(data_cleaned['Hormonal Contraceptives (years)'][data_cleaned['Dx:HPV']==1])\n",
    "ax[2].set_xlabel('Use of contraceptives (years) VS cancer')\n",
    "ax[2].set_xticklabels(ax[2].get_xticklabels(), rotation=45)"
   ]
  },
  {
   "cell_type": "markdown",
   "metadata": {},
   "source": [
    "Here are the observations from the above given plots:\n",
    "* Most of the women in the study were using or had used hormonal contraceptives in the past.\n",
    "* The above given trend is reflected in the other plots as well. If we ignore those positively diagnosed patients that had not taken the contraceptives, we will observe that the relationship between term-of-use of the contraceptives and the number of positive diagnosis fluctuates up until the one year point. After that, the trend is more stable. This, to some point can point that contraceptives in the long run might be the cause of cervical cancer. However, this hypothesis can be a result of the sampling bias within the data.\n",
    "\n",
    "\n",
    "Now let us do this same analysis for IUDs as well."
   ]
  },
  {
   "cell_type": "code",
   "execution_count": 14,
   "metadata": {},
   "outputs": [
    {
     "name": "stderr",
     "output_type": "stream",
     "text": [
      "C:\\Users\\Aniket Agrawal\\anaconda3\\lib\\site-packages\\seaborn\\distributions.py:369: UserWarning: Default bandwidth for data is 0; skipping density estimation.\n",
      "  warnings.warn(msg, UserWarning)\n"
     ]
    },
    {
     "data": {
      "text/plain": [
       "[Text(0, 0, '0.0'), Text(0, 0, '3.0'), Text(0, 0, '4.0'), Text(0, 0, '6.0')]"
      ]
     },
     "execution_count": 14,
     "metadata": {},
     "output_type": "execute_result"
    },
    {
     "data": {
      "image/png": "[encoded data removed]",
      "text/plain": [
       "<Figure size 1440x360 with 3 Axes>"
      ]
     },
     "metadata": {
      "needs_background": "light"
     },
     "output_type": "display_data"
    }
   ],
   "source": [
    "fig, ax = plt.subplots(1, 3, figsize=(20, 5))\n",
    "fig.suptitle('IUDs VS Cervical Cancer', fontsize=14)\n",
    "# plot 1\n",
    "sns.countplot(data_cleaned['IUD'], ax=ax[0])\n",
    "ax[0].set_xlabel('Used IUD')\n",
    "# plot 2\n",
    "sns.distplot(data_cleaned['IUD (years)'], color='red', ax=ax[1])\n",
    "ax[1].set_xlabel('No. of years used for')\n",
    "# plot 3\n",
    "sns.countplot(data_cleaned['IUD (years)'][data_cleaned['Dx:HPV']==1])\n",
    "ax[2].set_xlabel('Use of IUDs (years) VS cancer')\n",
    "ax[2].set_xticklabels(ax[2].get_xticklabels(), rotation=45)"
   ]
  },
  {
   "cell_type": "markdown",
   "metadata": {},
   "source": [
    "Observations from the above given plots:\n",
    "* Most women in the survey didn't use IUDs. \n",
    "* From the above observations, IUDs don't seem to be having a considerable role in causing cervical cancer.  \n",
    "\n",
    "With this, we come to the end of the EDA part. In the next section, we will be modeling a machine learning solution for classifying whether a female patient is at the risk of developing cervical cancer or not."
   ]
  },
  {
   "cell_type": "markdown",
   "metadata": {},
   "source": [
    "## Modeling & Evaluation\n",
    "---\n",
    "\n",
    "In this section, we will finally train our models and then compare their performances.\n",
    "\n",
    "### 1. Decision Tree Classifier"
   ]
  },
  {
   "cell_type": "code",
   "execution_count": 15,
   "metadata": {},
   "outputs": [],
   "source": [
    "# step-1: Importing the decision tree classifier class from sklearn\n",
    "from sklearn.tree import DecisionTreeClassifier\n",
    "\n",
    "# step-2: Create an instance of the DecisionTreeClassifier called Tree.\n",
    "Tree = DecisionTreeClassifier()\n",
    "\n",
    "# step-3: fit the data with the training feature matrix X_train and training response vector y_train\n",
    "Tree.fit(X_train,y_train)\n",
    "\n",
    "# step-4: Make some predictions on the testing dataset and store it into a variable called predTree\n",
    "predTree = Tree.predict(X_test)"
   ]
  },
  {
   "cell_type": "markdown",
   "metadata": {},
   "source": [
    "Now, let us Evaluate"
   ]
  },
  {
   "cell_type": "code",
   "execution_count": 16,
   "metadata": {},
   "outputs": [
    {
     "name": "stdout",
     "output_type": "stream",
     "text": [
      "DecisionTrees's Accuracy:  0.9557522123893806\n"
     ]
    }
   ],
   "source": [
    "# import metrics from sklearn and check the accuracy of the model\n",
    "from sklearn import metrics\n",
    "print(\"DecisionTrees's Accuracy: \", metrics.accuracy_score(y_test, predTree))"
   ]
  },
  {
   "cell_type": "markdown",
   "metadata": {},
   "source": [
    "From the above Accuracy Score, we get to know that our Decision Tree model has a 95.57 accuracy\n",
    "\n",
    "### 2. K Nearest Neighbors"
   ]
  },
  {
   "cell_type": "code",
   "execution_count": 17,
   "metadata": {},
   "outputs": [
    {
     "name": "stdout",
     "output_type": "stream",
     "text": [
      "The best accuracy was with 0.9778761061946902 with k= 2\n"
     ]
    }
   ],
   "source": [
    "# step1: Import library\n",
    "from sklearn.neighbors import KNeighborsClassifier\n",
    "\n",
    "# step2: calculate the accuracy of KNN for different Ks\n",
    "from sklearn import metrics\n",
    "Ks = 10\n",
    "mean_acc = np.zeros((Ks-1))\n",
    "std_acc = np.zeros((Ks-1))\n",
    "ConfustionMx = [];\n",
    "for n in range(1,Ks):\n",
    "    \n",
    "    #Train Model and Predict  \n",
    "    neigh = KNeighborsClassifier(n_neighbors = n).fit(X_train,y_train)\n",
    "    yhat=neigh.predict(X_test)\n",
    "    mean_acc[n-1] = metrics.accuracy_score(y_test, yhat)\n",
    "\n",
    "    \n",
    "    std_acc[n-1]=np.std(yhat==y_test)/np.sqrt(yhat.shape[0])\n",
    "print( \"The best accuracy was with\", mean_acc.max(), \"with k=\", mean_acc.argmax()+1) "
   ]
  },
  {
   "cell_type": "code",
   "execution_count": 18,
   "metadata": {},
   "outputs": [
    {
     "name": "stdout",
     "output_type": "stream",
     "text": [
      "Train set Accuracy:  0.9753320683111955\n",
      "Test set Accuracy:  0.9778761061946902\n"
     ]
    }
   ],
   "source": [
    "# Accuracy evaluation\n",
    "print(\"Train set Accuracy: \", metrics.accuracy_score(y_train, neigh.predict(X_train)))\n",
    "print(\"Test set Accuracy: \", metrics.accuracy_score(y_test, yhat))"
   ]
  },
  {
   "cell_type": "markdown",
   "metadata": {},
   "source": [
    "From our KNN Classifier, we get a test set accuracy of 97.78% Accuracy"
   ]
  },
  {
   "cell_type": "markdown",
   "metadata": {},
   "source": [
    "### 3. Logistic Regression"
   ]
  },
  {
   "cell_type": "code",
   "execution_count": 19,
   "metadata": {},
   "outputs": [],
   "source": [
    "# step1: Build the model using LogisticRegression from Scikit-learn package\n",
    "from sklearn.linear_model import LogisticRegression\n",
    "LR = LogisticRegression().fit(X_train,y_train)\n",
    "\n",
    "# step2: Predict using the test set\n",
    "yLR = LR.predict(X_test)"
   ]
  },
  {
   "cell_type": "code",
   "execution_count": 20,
   "metadata": {},
   "outputs": [
    {
     "data": {
      "text/html": [
       "<div>\n",
       "<style scoped>\n",
       "    .dataframe tbody tr th:only-of-type {\n",
       "        vertical-align: middle;\n",
       "    }\n",
       "\n",
       "    .dataframe tbody tr th {\n",
       "        vertical-align: top;\n",
       "    }\n",
       "\n",
       "    .dataframe thead th {\n",
       "        text-align: right;\n",
       "    }\n",
       "</style>\n",
       "<table border=\"1\" class=\"dataframe\">\n",
       "  <thead>\n",
       "    <tr style=\"text-align: right;\">\n",
       "      <th></th>\n",
       "      <th>N</th>\n",
       "      <th>P</th>\n",
       "    </tr>\n",
       "  </thead>\n",
       "  <tbody>\n",
       "    <tr>\n",
       "      <th>N</th>\n",
       "      <td>221</td>\n",
       "      <td>0</td>\n",
       "    </tr>\n",
       "    <tr>\n",
       "      <th>P</th>\n",
       "      <td>5</td>\n",
       "      <td>0</td>\n",
       "    </tr>\n",
       "  </tbody>\n",
       "</table>\n",
       "</div>"
      ],
      "text/plain": [
       "     N  P\n",
       "N  221  0\n",
       "P    5  0"
      ]
     },
     "execution_count": 20,
     "metadata": {},
     "output_type": "execute_result"
    }
   ],
   "source": [
    "# Evaluation\n",
    "# confusion matrix\n",
    "from sklearn.metrics import confusion_matrix\n",
    "\n",
    "cfm = pd.DataFrame(confusion_matrix(y_test, yLR))\n",
    "cfm.columns= ['N', 'P']\n",
    "cfm.index = ['N', 'P']\n",
    "cfm"
   ]
  },
  {
   "cell_type": "markdown",
   "metadata": {},
   "source": [
    "#### From the above Confusion Matrix we get 0 false positive which is a good thing but also are getting 5 false positive which indicates that the performane of the LR is not good"
   ]
  },
  {
   "cell_type": "code",
   "execution_count": 21,
   "metadata": {},
   "outputs": [
    {
     "data": {
      "text/plain": [
       "0.1139656273691435"
      ]
     },
     "execution_count": 21,
     "metadata": {},
     "output_type": "execute_result"
    }
   ],
   "source": [
    "#log loss for evaluation\n",
    "y_prob = LR.predict_proba(X_test)\n",
    "from sklearn.metrics import log_loss\n",
    "log_loss(y_test, y_prob)"
   ]
  },
  {
   "cell_type": "markdown",
   "metadata": {},
   "source": [
    "### 4. SVM (Support Vector Machines)\n",
    "\n",
    "The SVM algorithm offers a choice of kernel functions for performing its processing. Basically, mapping data into a higher dimensional space is called kernelling. The mathematical function used for the transformation is known as the kernel function, and can be of different types, such as:\n",
    "\n",
    "```\n",
    "1.Linear\n",
    "2.Polynomial\n",
    "3.Radial basis function (RBF)\n",
    "4.Sigmoid\n",
    "```\n",
    "\n",
    "Each of these functions has its characteristics, its pros and cons, and its equation, but as there's no easy way of knowing which function performs best with any given dataset, we usually choose different functions in turn and compare the results. Let's just use the default, RBF (Radial Basis Function) for this lab.\n"
   ]
  },
  {
   "cell_type": "code",
   "execution_count": 22,
   "metadata": {},
   "outputs": [],
   "source": [
    "# step1: import library\n",
    "from sklearn import svm\n",
    "\n",
    "# step2: create a SVM instance and train from the trainset\n",
    "clf = svm.SVC(kernel='rbf')\n",
    "clf.fit(X_train, y_train) \n",
    "\n",
    "#step2: Predict new values\n",
    "ySVM = clf.predict(X_test)"
   ]
  },
  {
   "cell_type": "code",
   "execution_count": 23,
   "metadata": {},
   "outputs": [
    {
     "data": {
      "text/html": [
       "<div>\n",
       "<style scoped>\n",
       "    .dataframe tbody tr th:only-of-type {\n",
       "        vertical-align: middle;\n",
       "    }\n",
       "\n",
       "    .dataframe tbody tr th {\n",
       "        vertical-align: top;\n",
       "    }\n",
       "\n",
       "    .dataframe thead th {\n",
       "        text-align: right;\n",
       "    }\n",
       "</style>\n",
       "<table border=\"1\" class=\"dataframe\">\n",
       "  <thead>\n",
       "    <tr style=\"text-align: right;\">\n",
       "      <th></th>\n",
       "      <th>N</th>\n",
       "      <th>P</th>\n",
       "    </tr>\n",
       "  </thead>\n",
       "  <tbody>\n",
       "    <tr>\n",
       "      <th>N</th>\n",
       "      <td>221</td>\n",
       "      <td>0</td>\n",
       "    </tr>\n",
       "    <tr>\n",
       "      <th>P</th>\n",
       "      <td>5</td>\n",
       "      <td>0</td>\n",
       "    </tr>\n",
       "  </tbody>\n",
       "</table>\n",
       "</div>"
      ],
      "text/plain": [
       "     N  P\n",
       "N  221  0\n",
       "P    5  0"
      ]
     },
     "execution_count": 23,
     "metadata": {},
     "output_type": "execute_result"
    }
   ],
   "source": [
    "# Evaluation\n",
    "# Confusion matrix\n",
    "from sklearn.metrics import confusion_matrix\n",
    "\n",
    "cfm = pd.DataFrame(confusion_matrix(y_test, ySVM))\n",
    "cfm.columns= ['N', 'P']\n",
    "cfm.index = ['N', 'P']\n",
    "cfm"
   ]
  },
  {
   "cell_type": "code",
   "execution_count": 24,
   "metadata": {},
   "outputs": [
    {
     "data": {
      "text/plain": [
       "0.9669378947160026"
      ]
     },
     "execution_count": 24,
     "metadata": {},
     "output_type": "execute_result"
    }
   ],
   "source": [
    "# f1_score\n",
    "from sklearn.metrics import f1_score\n",
    "f1_score(y_test, ySVM, average='weighted') "
   ]
  },
  {
   "cell_type": "code",
   "execution_count": null,
   "metadata": {},
   "outputs": [],
   "source": []
  }
 ],
 "metadata": {
  "kernelspec": {
   "display_name": "'Python Interactive'",
   "language": "python",
   "name": "407e4553-c5bb-425c-a6a0-c7c63628927e"
  },
  "language_info": {
   "codemirror_mode": {
    "name": "ipython",
    "version": 3
   },
   "file_extension": ".py",
   "mimetype": "text/x-python",
   "name": "python",
   "nbconvert_exporter": "python",
   "pygments_lexer": "ipython3",
   "version": "3.8.3"
  }
 },
 "nbformat": 4,
 "nbformat_minor": 2
}
